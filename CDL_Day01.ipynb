{
  "nbformat": 4,
  "nbformat_minor": 0,
  "metadata": {
    "colab": {
      "provenance": [],
      "authorship_tag": "ABX9TyMvJumkWqa/OsiixVzlwVbI",
      "include_colab_link": true
    },
    "kernelspec": {
      "name": "python3",
      "display_name": "Python 3"
    },
    "language_info": {
      "name": "python"
    }
  },
  "cells": [
    {
      "cell_type": "markdown",
      "metadata": {
        "id": "view-in-github",
        "colab_type": "text"
      },
      "source": [
        "<a href=\"https://colab.research.google.com/github/Sirfowahid/Challange_DL/blob/main/CDL_Day01.ipynb\" target=\"_parent\"><img src=\"https://colab.research.google.com/assets/colab-badge.svg\" alt=\"Open In Colab\"/></a>"
      ]
    },
    {
      "cell_type": "code",
      "execution_count": 2,
      "metadata": {
        "id": "HVnIy2cjDXVP"
      },
      "outputs": [],
      "source": [
        "import numpy as np\n",
        "import torch as t"
      ]
    },
    {
      "cell_type": "markdown",
      "source": [
        "Transpose"
      ],
      "metadata": {
        "id": "0gd7FjH_EqbX"
      }
    },
    {
      "cell_type": "code",
      "source": [
        "#using numpy\n",
        "arrn = np.array([[1,2,3,4]])\n",
        "arrnt = arrn.T\n",
        "\n",
        "print(arrn)\n",
        "print(arrnt)"
      ],
      "metadata": {
        "colab": {
          "base_uri": "https://localhost:8080/"
        },
        "id": "cBbSEj9AEtHw",
        "outputId": "928f3919-3a05-43d2-ef38-c580d7b10004"
      },
      "execution_count": 4,
      "outputs": [
        {
          "output_type": "stream",
          "name": "stdout",
          "text": [
            "[[1 2 3 4]]\n",
            "[[1]\n",
            " [2]\n",
            " [3]\n",
            " [4]]\n"
          ]
        }
      ]
    },
    {
      "cell_type": "code",
      "source": [
        "matn = np.array([[1,2,3,4],\n",
        "                  [5,6,7,8]])\n",
        "matnt = matn.T\n",
        "print(matn)\n",
        "print(matnt)"
      ],
      "metadata": {
        "colab": {
          "base_uri": "https://localhost:8080/"
        },
        "id": "nbUxdM5cFMNM",
        "outputId": "86585c6d-8bba-4328-d801-b69d7a113c65"
      },
      "execution_count": 5,
      "outputs": [
        {
          "output_type": "stream",
          "name": "stdout",
          "text": [
            "[[1 2 3 4]\n",
            " [5 6 7 8]]\n",
            "[[1 5]\n",
            " [2 6]\n",
            " [3 7]\n",
            " [4 8]]\n"
          ]
        }
      ]
    },
    {
      "cell_type": "code",
      "source": [
        "arrt =t.tensor([[1,2,3,4]])\n",
        "arrtt = arrt.T\n",
        "print(arrt)\n",
        "print(arrtt)"
      ],
      "metadata": {
        "colab": {
          "base_uri": "https://localhost:8080/"
        },
        "id": "YeFSkLQ9FxkZ",
        "outputId": "2af3bfff-f44f-4565-ad44-f325df1b8e63"
      },
      "execution_count": 6,
      "outputs": [
        {
          "output_type": "stream",
          "name": "stdout",
          "text": [
            "tensor([[1, 2, 3, 4]])\n",
            "tensor([[1],\n",
            "        [2],\n",
            "        [3],\n",
            "        [4]])\n"
          ]
        }
      ]
    },
    {
      "cell_type": "code",
      "source": [
        "arr2t = t.tensor([[1,2,3,4],\n",
        "                  [5,6,7,8]])\n",
        "arr2tt = arr2t.T\n",
        "print(arr2t)\n",
        "print(arr2tt)"
      ],
      "metadata": {
        "colab": {
          "base_uri": "https://localhost:8080/"
        },
        "id": "XGLi_WEEGFxF",
        "outputId": "9383a772-2880-4e90-c54f-8ced582f3d54"
      },
      "execution_count": 7,
      "outputs": [
        {
          "output_type": "stream",
          "name": "stdout",
          "text": [
            "tensor([[1, 2, 3, 4],\n",
            "        [5, 6, 7, 8]])\n",
            "tensor([[1, 5],\n",
            "        [2, 6],\n",
            "        [3, 7],\n",
            "        [4, 8]])\n"
          ]
        }
      ]
    },
    {
      "cell_type": "code",
      "source": [
        " "
      ],
      "metadata": {
        "id": "vYlEp_kFGy7e"
      },
      "execution_count": null,
      "outputs": []
    }
  ]
}