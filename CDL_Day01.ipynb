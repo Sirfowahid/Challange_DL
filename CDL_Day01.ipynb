{
  "nbformat": 4,
  "nbformat_minor": 0,
  "metadata": {
    "colab": {
      "provenance": [],
      "authorship_tag": "ABX9TyObJ7YZDKXjWScQ3q4SCTWk",
      "include_colab_link": true
    },
    "kernelspec": {
      "name": "python3",
      "display_name": "Python 3"
    },
    "language_info": {
      "name": "python"
    }
  },
  "cells": [
    {
      "cell_type": "markdown",
      "metadata": {
        "id": "view-in-github",
        "colab_type": "text"
      },
      "source": [
        "<a href=\"https://colab.research.google.com/github/Sirfowahid/Challange_DL/blob/main/CDL_Day01.ipynb\" target=\"_parent\"><img src=\"https://colab.research.google.com/assets/colab-badge.svg\" alt=\"Open In Colab\"/></a>"
      ]
    },
    {
      "cell_type": "markdown",
      "source": [
        "Mathematics"
      ],
      "metadata": {
        "id": "-h9z1kiCJZMy"
      }
    },
    {
      "cell_type": "code",
      "execution_count": 1,
      "metadata": {
        "id": "HVnIy2cjDXVP"
      },
      "outputs": [],
      "source": [
        "import numpy as np\n",
        "import torch as t"
      ]
    },
    {
      "cell_type": "markdown",
      "source": [
        "Transpose"
      ],
      "metadata": {
        "id": "0gd7FjH_EqbX"
      }
    },
    {
      "cell_type": "code",
      "source": [
        "#using numpy\n",
        "arrn = np.array([[1,2,3,4]])\n",
        "arrnt = arrn.T\n",
        "\n",
        "print(arrn)\n",
        "print(arrnt)"
      ],
      "metadata": {
        "colab": {
          "base_uri": "https://localhost:8080/"
        },
        "id": "cBbSEj9AEtHw",
        "outputId": "f94d1385-1025-4985-b9c0-7c481e29d811"
      },
      "execution_count": 2,
      "outputs": [
        {
          "output_type": "stream",
          "name": "stdout",
          "text": [
            "[[1 2 3 4]]\n",
            "[[1]\n",
            " [2]\n",
            " [3]\n",
            " [4]]\n"
          ]
        }
      ]
    },
    {
      "cell_type": "code",
      "source": [
        "matn = np.array([[1,2,3,4],\n",
        "                  [5,6,7,8]])\n",
        "matnt = matn.T\n",
        "print(matn)\n",
        "print(matnt)"
      ],
      "metadata": {
        "colab": {
          "base_uri": "https://localhost:8080/"
        },
        "id": "nbUxdM5cFMNM",
        "outputId": "ea9b9ec4-11c8-4b6d-a377-496b3264caf1"
      },
      "execution_count": 3,
      "outputs": [
        {
          "output_type": "stream",
          "name": "stdout",
          "text": [
            "[[1 2 3 4]\n",
            " [5 6 7 8]]\n",
            "[[1 5]\n",
            " [2 6]\n",
            " [3 7]\n",
            " [4 8]]\n"
          ]
        }
      ]
    },
    {
      "cell_type": "code",
      "source": [
        "arrt =t.tensor([[1,2,3,4]])\n",
        "arrtt = arrt.T\n",
        "print(arrt)\n",
        "print(arrtt)"
      ],
      "metadata": {
        "colab": {
          "base_uri": "https://localhost:8080/"
        },
        "id": "YeFSkLQ9FxkZ",
        "outputId": "b152ebb0-0f5d-41da-c157-8d35cb7af7df"
      },
      "execution_count": 4,
      "outputs": [
        {
          "output_type": "stream",
          "name": "stdout",
          "text": [
            "tensor([[1, 2, 3, 4]])\n",
            "tensor([[1],\n",
            "        [2],\n",
            "        [3],\n",
            "        [4]])\n"
          ]
        }
      ]
    },
    {
      "cell_type": "code",
      "source": [
        "arr2t = t.tensor([[1,2,3,4],\n",
        "                  [5,6,7,8]])\n",
        "arr2tt = arr2t.T\n",
        "print(arr2t)\n",
        "print(arr2tt)"
      ],
      "metadata": {
        "colab": {
          "base_uri": "https://localhost:8080/"
        },
        "id": "XGLi_WEEGFxF",
        "outputId": "30cdf9c4-4bc9-4a6a-f74a-ae89bf39beb3"
      },
      "execution_count": 5,
      "outputs": [
        {
          "output_type": "stream",
          "name": "stdout",
          "text": [
            "tensor([[1, 2, 3, 4],\n",
            "        [5, 6, 7, 8]])\n",
            "tensor([[1, 5],\n",
            "        [2, 6],\n",
            "        [3, 7],\n",
            "        [4, 8]])\n"
          ]
        }
      ]
    },
    {
      "cell_type": "markdown",
      "source": [
        "Dot Product"
      ],
      "metadata": {
        "id": "XmjKylh-HLGB"
      }
    },
    {
      "cell_type": "code",
      "source": [
        "na1 = np.array([1,2,3,4])\n",
        "na2  = np.array([2,4,6,8])\n",
        "#using method\n",
        "print(np.dot(na1,na2))\n",
        "#via computation\n",
        "print(np.sum(na1*na2))"
      ],
      "metadata": {
        "colab": {
          "base_uri": "https://localhost:8080/"
        },
        "id": "vYlEp_kFGy7e",
        "outputId": "53e9fd45-ba5d-434d-c3b1-7f6ddb3b9b2a"
      },
      "execution_count": 6,
      "outputs": [
        {
          "output_type": "stream",
          "name": "stdout",
          "text": [
            "60\n",
            "60\n"
          ]
        }
      ]
    },
    {
      "cell_type": "code",
      "source": [
        "ta1 = t.tensor([1,2,3,4])\n",
        "ta2 = t.tensor([2,4,6,8])\n",
        "#using method\n",
        "print(t.dot(ta1,ta2))\n",
        "#via calculation\n",
        "print(t.sum(ta1*ta2))"
      ],
      "metadata": {
        "colab": {
          "base_uri": "https://localhost:8080/"
        },
        "id": "i33YHt1iH38F",
        "outputId": "29564844-cf44-4177-8488-978ee6dcfe1f"
      },
      "execution_count": 7,
      "outputs": [
        {
          "output_type": "stream",
          "name": "stdout",
          "text": [
            "tensor(60)\n",
            "tensor(60)\n"
          ]
        }
      ]
    },
    {
      "cell_type": "markdown",
      "source": [
        "Matrix Multiplication"
      ],
      "metadata": {
        "id": "88o6Cc6EJxTK"
      }
    },
    {
      "cell_type": "code",
      "source": [
        "A = np.random.randn(3,4)\n",
        "B = np.random.randn(4,5)\n",
        "\n",
        "print(np.matmul(A,B))\n",
        "print(A@B)"
      ],
      "metadata": {
        "colab": {
          "base_uri": "https://localhost:8080/"
        },
        "id": "eNrv0GzDJyFq",
        "outputId": "13bb7301-8b54-4ca9-b0aa-6d2907c5ca15"
      },
      "execution_count": 8,
      "outputs": [
        {
          "output_type": "stream",
          "name": "stdout",
          "text": [
            "[[-1.58161411 -4.78580889 -0.84421412  0.34173957 -3.07945909]\n",
            " [ 0.55267773  0.97938533 -0.43734659 -0.21487387  1.30508417]\n",
            " [-0.15474629  3.65839471  1.05072731 -1.83728706  3.75786211]]\n",
            "[[-1.58161411 -4.78580889 -0.84421412  0.34173957 -3.07945909]\n",
            " [ 0.55267773  0.97938533 -0.43734659 -0.21487387  1.30508417]\n",
            " [-0.15474629  3.65839471  1.05072731 -1.83728706  3.75786211]]\n"
          ]
        }
      ]
    },
    {
      "cell_type": "code",
      "source": [
        "C = t.randn(3,4)\n",
        "D = t.randn(4,5)\n",
        "print(C@D)\n",
        "print(t.matmul(C,D))"
      ],
      "metadata": {
        "colab": {
          "base_uri": "https://localhost:8080/"
        },
        "id": "1hzrzUU-MApU",
        "outputId": "50520c3e-df8b-4524-de06-8c4ff9eb0482"
      },
      "execution_count": 9,
      "outputs": [
        {
          "output_type": "stream",
          "name": "stdout",
          "text": [
            "tensor([[ 1.6175, -2.0384, -0.8179, -0.4320, -0.2103],\n",
            "        [ 0.2897, -1.0869, -1.8005, -4.1509, -3.0275],\n",
            "        [-3.5674,  0.5900, -0.7340,  1.6977,  2.1288]])\n",
            "tensor([[ 1.6175, -2.0384, -0.8179, -0.4320, -0.2103],\n",
            "        [ 0.2897, -1.0869, -1.8005, -4.1509, -3.0275],\n",
            "        [-3.5674,  0.5900, -0.7340,  1.6977,  2.1288]])\n"
          ]
        }
      ]
    },
    {
      "cell_type": "code",
      "source": [
        "A = np.array([1,2,3,4])\n",
        "print(A.dtype)\n",
        "B = t.tensor(A)\n",
        "print(B.dtype)\n",
        "C = t.tensor(A,dtype=t.float)\n",
        "print(C.dtype)"
      ],
      "metadata": {
        "colab": {
          "base_uri": "https://localhost:8080/"
        },
        "id": "glWzMFbAMnH-",
        "outputId": "d6925fcb-0d39-4924-c8b3-32ba279cf1c6"
      },
      "execution_count": 10,
      "outputs": [
        {
          "output_type": "stream",
          "name": "stdout",
          "text": [
            "int64\n",
            "torch.int64\n",
            "torch.float32\n"
          ]
        }
      ]
    },
    {
      "cell_type": "code",
      "source": [],
      "metadata": {
        "id": "qMwdE-jpM3x_"
      },
      "execution_count": 10,
      "outputs": []
    }
  ]
}